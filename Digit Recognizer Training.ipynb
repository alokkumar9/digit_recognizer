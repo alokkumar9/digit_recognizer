{
 "cells": [
  {
   "cell_type": "code",
   "execution_count": 1,
   "id": "b45660f6-c167-4262-bd89-faf3b94b6244",
   "metadata": {},
   "outputs": [],
   "source": [
    "# create data generator\n",
    "import numpy as np\n",
    "import os\n",
    "import PIL\n",
    "import PIL.Image\n",
    "import tensorflow as tf"
   ]
  },
  {
   "cell_type": "code",
   "execution_count": 2,
   "id": "c50fe2ee-9764-4349-87d4-1cd7bb9b316f",
   "metadata": {},
   "outputs": [],
   "source": [
    "import keras\n",
    "from keras.datasets import mnist\n",
    "from keras.models import Sequential\n",
    "from keras.layers import Dropout\n",
    "from keras.layers import Dense, Flatten\n",
    "from keras.layers import Conv2D\n",
    "from keras.layers import MaxPooling2D\n",
    "from keras import backend as K\n",
    "#  to split the data of training and testing sets\n",
    "(x_train, y_train), (x_test, y_test) = mnist.load_data()"
   ]
  },
  {
   "cell_type": "code",
   "execution_count": 5,
   "id": "155a881a-264c-4281-beb8-4659582fbd0d",
   "metadata": {},
   "outputs": [],
   "source": [
    "batch_size = 128\n",
    "num_classes = 10\n",
    "epochs = 10\n",
    "input_shape=(28,28,1)\n",
    "model = Sequential()\n",
    "model.add(Conv2D(32, kernel_size=(3, 3),activation='relu',input_shape=input_shape))\n",
    "model.add(Conv2D(64, (3, 3), activation='relu'))\n",
    "model.add(MaxPooling2D(pool_size=(2, 2)))\n",
    "model.add(Dropout(0.25))\n",
    "model.add(Flatten())\n",
    "model.add(Dense(256, activation='relu'))\n",
    "model.add(Dropout(0.5))\n",
    "model.add(Dense(num_classes, activation='softmax'))\n",
    "model.compile(loss=keras.losses.categorical_crossentropy,optimizer=keras.optimizers.Adadelta(),metrics=['accuracy'])"
   ]
  },
  {
   "cell_type": "code",
   "execution_count": 6,
   "id": "8aabd482-26a4-447e-ac7b-77d7d04410d7",
   "metadata": {},
   "outputs": [],
   "source": [
    "x_train = x_train.reshape(x_train.shape[0], 28, 28, 1)\n",
    "x_test = x_test.reshape(x_test.shape[0], 28, 28, 1)\n",
    "input_shape = (28, 28, 1)\n",
    "# conversion of class vectors to matrices of  binary class \n",
    "y_train = keras.utils.to_categorical(y_train, num_classes)\n",
    "y_test = keras.utils.to_categorical(y_test, num_classes)\n",
    "x_train = x_train.astype('float32')\n",
    "x_test = x_test.astype('float32')\n",
    "x_train /= 255\n",
    "x_test /= 255"
   ]
  },
  {
   "cell_type": "code",
   "execution_count": 7,
   "id": "4b75c2be-71a2-45f2-934e-163a770bea09",
   "metadata": {},
   "outputs": [
    {
     "name": "stdout",
     "output_type": "stream",
     "text": [
      "Epoch 1/10\n",
      "469/469 [==============================] - 175s 369ms/step - loss: 2.2849 - accuracy: 0.1426 - val_loss: 2.2381 - val_accuracy: 0.3566\n",
      "Epoch 2/10\n",
      "469/469 [==============================] - 176s 376ms/step - loss: 2.2075 - accuracy: 0.2940 - val_loss: 2.1417 - val_accuracy: 0.6181\n",
      "Epoch 3/10\n",
      "469/469 [==============================] - 177s 377ms/step - loss: 2.1068 - accuracy: 0.4308 - val_loss: 2.0108 - val_accuracy: 0.7009\n",
      "Epoch 4/10\n",
      "469/469 [==============================] - 176s 376ms/step - loss: 1.9648 - accuracy: 0.5344 - val_loss: 1.8291 - val_accuracy: 0.7400\n",
      "Epoch 5/10\n",
      "469/469 [==============================] - 142s 302ms/step - loss: 1.7771 - accuracy: 0.5951 - val_loss: 1.5924 - val_accuracy: 0.7732\n",
      "Epoch 6/10\n",
      "469/469 [==============================] - 143s 304ms/step - loss: 1.5515 - accuracy: 0.6398 - val_loss: 1.3286 - val_accuracy: 0.7985\n",
      "Epoch 7/10\n",
      "469/469 [==============================] - 139s 297ms/step - loss: 1.3276 - accuracy: 0.6710 - val_loss: 1.0885 - val_accuracy: 0.8141\n",
      "Epoch 8/10\n",
      "469/469 [==============================] - 140s 299ms/step - loss: 1.1409 - accuracy: 0.7006 - val_loss: 0.9036 - val_accuracy: 0.8283\n",
      "Epoch 9/10\n",
      "469/469 [==============================] - 138s 294ms/step - loss: 1.0059 - accuracy: 0.7199 - val_loss: 0.7736 - val_accuracy: 0.8381\n",
      "Epoch 10/10\n",
      "469/469 [==============================] - 137s 292ms/step - loss: 0.9032 - accuracy: 0.7381 - val_loss: 0.6821 - val_accuracy: 0.8468\n",
      "The model has successfully trained\n"
     ]
    }
   ],
   "source": [
    "hist = model.fit(x_train, y_train,batch_size=batch_size,epochs=epochs,verbose=1,validation_data=(x_test, y_test))\n",
    "print(\"The model has successfully trained\")"
   ]
  },
  {
   "cell_type": "code",
   "execution_count": 9,
   "id": "682e4049-fab7-4ea3-a3b4-ddd184d9d0c7",
   "metadata": {},
   "outputs": [
    {
     "name": "stdout",
     "output_type": "stream",
     "text": [
      "Test loss: 0.6820817589759827\n",
      "Test accuracy: 0.8468000292778015\n"
     ]
    }
   ],
   "source": [
    "score = model.evaluate(x_test, y_test, verbose=0)\n",
    "print('Test loss:', score[0])\n",
    "print('Test accuracy:', score[1])"
   ]
  },
  {
   "cell_type": "code",
   "execution_count": null,
   "id": "1bef0ba4-86a1-4824-bcc2-e8fb7d9095ef",
   "metadata": {},
   "outputs": [],
   "source": []
  },
  {
   "cell_type": "code",
   "execution_count": null,
   "id": "8d8e265a-1c07-411a-a07f-17fcb1045326",
   "metadata": {},
   "outputs": [],
   "source": []
  }
 ],
 "metadata": {
  "kernelspec": {
   "display_name": "Python 3 (ipykernel)",
   "language": "python",
   "name": "python3"
  },
  "language_info": {
   "codemirror_mode": {
    "name": "ipython",
    "version": 3
   },
   "file_extension": ".py",
   "mimetype": "text/x-python",
   "name": "python",
   "nbconvert_exporter": "python",
   "pygments_lexer": "ipython3",
   "version": "3.11.4"
  }
 },
 "nbformat": 4,
 "nbformat_minor": 5
}
